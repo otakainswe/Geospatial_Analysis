{
 "cells": [
  {
   "cell_type": "code",
   "execution_count": 2,
   "metadata": {},
   "outputs": [],
   "source": [
    "%matplotlib inline "
   ]
  },
  {
   "cell_type": "markdown",
   "metadata": {},
   "source": [
    "The goal of this lab is to practice with basic features of several main python libraries for machine learning.\n",
    "In order to get access to the necessary functionality we will import some libraries."
   ]
  },
  {
   "cell_type": "code",
   "execution_count": 3,
   "metadata": {},
   "outputs": [],
   "source": [
    "import sklearn\n",
    "import numpy as np # usis alias\n",
    "import pandas as pd\n",
    "import matplotlib.pyplot as plt\n"
   ]
  },
  {
   "cell_type": "markdown",
   "metadata": {},
   "source": [
    "### Loading an example dataset\n",
    "\n",
    "\n",
    "For this introductory exercise, we will use a classic toy data set, Iris dataset wich is also a builtin dataset in scikit-learn library.\n",
    "\n",
    "The dataset was collected by botanist Edward Anderson and made famous by Ronald Fisher, one of the most prolific statisticians in history. Anderson carefully measured the anatomical properties of samples of three different species of iris, Iris setosa, Iris versicolor, and Iris virginica. The full data set is available as part of scikit-learn. \n",
    "The dataset can be downloaded also from this [repository](http://archive.ics.uci.edu/ml/machine-learning-databases/iris/)\n",
    "\n",
    "The dataset includes 150 observations of the iris flower specifying some measurements: \n",
    "\n",
    "- sepal length, sepal width, petal length and petal width together with its subtype:\n",
    "*Iris setosa*, *Iris versicolor*, *Iris virginica*."
   ]
  },
  {
   "cell_type": "code",
   "execution_count": 4,
   "metadata": {},
   "outputs": [],
   "source": [
    "from sklearn import datasets"
   ]
  },
  {
   "cell_type": "markdown",
   "metadata": {},
   "source": [
    "### Machine Learning Terminology\n",
    "\n",
    "Each row is an observation (also known as : sample, example, instance, record)\n",
    "\n",
    "Each column is a feature (also known as: predictor, attribute, independent variable, regressor, covariate)\n",
    "\n",
    "#### Data as table\n",
    "\n",
    "A basic table is a two-dimensional grid of data, in which the rows represent individual elements of the dataset, and the columns represent quantities related to each of these elements. In general, we will refer to the rows of the matrix as *samples*, and the number of rows as n_samples and the the columns of the matrix as *features*, and the number of columns as n_features.\n",
    "\n",
    "Features matrix - This table layout makes clear that the information can be thought of as a two-dimensional numerical array or matrix, called the features matrix with shape [n_samples, n_features]\n",
    "\n",
    "Target array.- In addition to the feature matrix X, we also generally work with a label or *target array*, which by convention we will usually call *y*. The target array is usually one dimensional, with length n_samples, and is generally contained in a NumPy array or Pandas Series.\n",
    "\n",
    "The loader functions from sklearn return a dictionary-like object holding at least two items: an array of shape n_samples * n_features with key data and a numpy array of length n_samples, containing the target values, with key target.\n",
    "\n",
    "This data is stored in the `.data` member, which is a `(n_samples, n_features)`\n",
    "array.\n",
    "The labels or response variables (dependent variables) are stored in the *.target* member.  \n",
    "\n",
    "\n",
    "The datasets also contain a full description in their DESCR attribute and some contain feature_names and target_names. See the [dataset descriptions](https://scikit-learn.org/stable/modules/generated/sklearn.datasets.load_iris.html#sklearn.datasets.load_iris) for details.\n",
    "\n"
   ]
  },
  {
   "cell_type": "code",
   "execution_count": 5,
   "metadata": {},
   "outputs": [
    {
     "data": {
      "text/plain": [
       "sklearn.utils.Bunch"
      ]
     },
     "execution_count": 5,
     "metadata": {},
     "output_type": "execute_result"
    }
   ],
   "source": [
    "# save \"bunch\" object containing iris dataset and its attributes\n",
    "iris = datasets.load_iris()\n",
    "type(iris) "
   ]
  },
  {
   "cell_type": "code",
   "execution_count": null,
   "metadata": {},
   "outputs": [],
   "source": [
    "print (iris.DESCR)"
   ]
  },
  {
   "cell_type": "code",
   "execution_count": null,
   "metadata": {},
   "outputs": [],
   "source": [
    "# print the iris dataset\n",
    "# Each row represents the flowers and each column represents the length and width.\n",
    "print (iris.data)\n",
    "print(iris.data.shape)"
   ]
  },
  {
   "cell_type": "code",
   "execution_count": 8,
   "metadata": {},
   "outputs": [
    {
     "name": "stdout",
     "output_type": "stream",
     "text": [
      "['sepal length (cm)', 'sepal width (cm)', 'petal length (cm)', 'petal width (cm)']\n"
     ]
    }
   ],
   "source": [
    "# print the names of the four features\n",
    "print (iris.feature_names)"
   ]
  },
  {
   "cell_type": "code",
   "execution_count": null,
   "metadata": {},
   "outputs": [],
   "source": [
    "# print the integers representing the species of each observation\n",
    "print (iris.target)\n",
    "print (iris.target.shape)"
   ]
  },
  {
   "cell_type": "code",
   "execution_count": 10,
   "metadata": {},
   "outputs": [
    {
     "name": "stdout",
     "output_type": "stream",
     "text": [
      "['setosa' 'versicolor' 'virginica']\n"
     ]
    }
   ],
   "source": [
    "# print the encoding scheme for species; 0 = Setosa , 1=Versicolor, 2= virginica\n",
    "print (iris.target_names)"
   ]
  },
  {
   "cell_type": "code",
   "execution_count": null,
   "metadata": {},
   "outputs": [],
   "source": []
  },
  {
   "cell_type": "markdown",
   "metadata": {},
   "source": [
    "Each value we are predicting is the response (also known as: target, outcome, label, dependent variable)\n",
    "\n",
    "Requirements for working with data in scikit-learn:\n",
    "\n",
    "1) Features and response are separate objects\n",
    "\n",
    "2) Features and response should be numeric\n",
    "\n",
    "3)Features and response should be NumPy arrays\n",
    "\n",
    "4)Features and response should have specific shapes"
   ]
  },
  {
   "cell_type": "code",
   "execution_count": 11,
   "metadata": {},
   "outputs": [
    {
     "data": {
      "text/plain": [
       "numpy.ndarray"
      ]
     },
     "execution_count": 11,
     "metadata": {},
     "output_type": "execute_result"
    }
   ],
   "source": [
    "# Check the types of the features and response\n",
    "type(iris.data)\n",
    "type(iris.target)"
   ]
  },
  {
   "cell_type": "code",
   "execution_count": 12,
   "metadata": {},
   "outputs": [
    {
     "name": "stdout",
     "output_type": "stream",
     "text": [
      "<class 'numpy.ndarray'>\n",
      "The shape of the feature matrix is (150, 4)\n"
     ]
    }
   ],
   "source": [
    "# Extract the values for features (unpacking)\n",
    "\n",
    "X, y = iris.data, iris.target\n",
    "\n",
    "print(type(X))\n",
    "print('The shape of the feature matrix is {}'.format(X.shape))\n",
    "\n"
   ]
  },
  {
   "cell_type": "code",
   "execution_count": null,
   "metadata": {},
   "outputs": [],
   "source": [
    " # subsetting the first 4 rows of the array (and all columns)\n",
    "X[:5,:]"
   ]
  },
  {
   "cell_type": "code",
   "execution_count": null,
   "metadata": {},
   "outputs": [],
   "source": [
    " # subsetting the first 10 rows and the last 2 columns\n",
    "X[:10,-2:]"
   ]
  },
  {
   "cell_type": "code",
   "execution_count": 15,
   "metadata": {},
   "outputs": [
    {
     "data": {
      "text/plain": [
       "(150,)"
      ]
     },
     "execution_count": 15,
     "metadata": {},
     "output_type": "execute_result"
    }
   ],
   "source": [
    "y.shape"
   ]
  },
  {
   "cell_type": "markdown",
   "metadata": {},
   "source": [
    " ### Reading the data in a pandas dataframe\n",
    " \n",
    "Pandas is a Python library for data analysis. It offers a number of data exploration, cleaning and transformation operations that are critical in working with data in Python. Pandas build upon numpy and scipy providing easy-to-use data structures and data manipulation functions with integrated indexing. The main data structures pandas provides are ‘Series’ and ‘DataFrames’. \n"
   ]
  },
  {
   "cell_type": "code",
   "execution_count": null,
   "metadata": {},
   "outputs": [],
   "source": [
    "iris_df = pd.DataFrame(iris.data, columns=['Sepal Length', 'Sepal Width', 'Petal Length', 'Petal Width'])\n",
    "# iris_df.columns = iris.feature_names\n",
    " \n",
    "iris_df['Class'] = iris.target\n",
    "iris_df.head()"
   ]
  },
  {
   "cell_type": "markdown",
   "metadata": {},
   "source": [
    "After loading the data using pandas library, we should check out what the content is, description using the following:\n",
    "\n",
    "* dataset.head()  -  getting the first 10 rows of the data set\n",
    "* dataset.tail()  -  gettinge out last 10 row of the data set\n",
    "* dataset.describe() - to get a statistical summary of the dataset\n",
    "* dataframe.sample(5) - pops up 5 random rows from the data set \n",
    "* dataframe.isnull().sum()  - checks out how many null info are on the dataset"
   ]
  },
  {
   "cell_type": "code",
   "execution_count": null,
   "metadata": {},
   "outputs": [],
   "source": [
    "X_ = iris_df[['Sepal Length', 'Sepal Width']]\n",
    "X_.head()"
   ]
  },
  {
   "cell_type": "code",
   "execution_count": 19,
   "metadata": {},
   "outputs": [],
   "source": [
    "X_.iloc[0]['Sepal Length'] =8"
   ]
  },
  {
   "cell_type": "code",
   "execution_count": null,
   "metadata": {},
   "outputs": [],
   "source": [
    "X_.head()"
   ]
  },
  {
   "cell_type": "code",
   "execution_count": 21,
   "metadata": {},
   "outputs": [
    {
     "data": {
      "text/html": [
       "<div>\n",
       "<style scoped>\n",
       "    .dataframe tbody tr th:only-of-type {\n",
       "        vertical-align: middle;\n",
       "    }\n",
       "\n",
       "    .dataframe tbody tr th {\n",
       "        vertical-align: top;\n",
       "    }\n",
       "\n",
       "    .dataframe thead th {\n",
       "        text-align: right;\n",
       "    }\n",
       "</style>\n",
       "<table border=\"1\" class=\"dataframe\">\n",
       "  <thead>\n",
       "    <tr style=\"text-align: right;\">\n",
       "      <th></th>\n",
       "      <th>Sepal Length</th>\n",
       "      <th>Sepal Width</th>\n",
       "      <th>Petal Length</th>\n",
       "      <th>Petal Width</th>\n",
       "      <th>Class</th>\n",
       "    </tr>\n",
       "  </thead>\n",
       "  <tbody>\n",
       "    <tr>\n",
       "      <th>0</th>\n",
       "      <td>5.1</td>\n",
       "      <td>3.5</td>\n",
       "      <td>1.4</td>\n",
       "      <td>0.2</td>\n",
       "      <td>0</td>\n",
       "    </tr>\n",
       "    <tr>\n",
       "      <th>1</th>\n",
       "      <td>4.9</td>\n",
       "      <td>3.0</td>\n",
       "      <td>1.4</td>\n",
       "      <td>0.2</td>\n",
       "      <td>0</td>\n",
       "    </tr>\n",
       "  </tbody>\n",
       "</table>\n",
       "</div>"
      ],
      "text/plain": [
       "   Sepal Length  Sepal Width  Petal Length  Petal Width  Class\n",
       "0           5.1          3.5           1.4          0.2      0\n",
       "1           4.9          3.0           1.4          0.2      0"
      ]
     },
     "execution_count": 21,
     "metadata": {},
     "output_type": "execute_result"
    }
   ],
   "source": [
    "iris_df.head(2)"
   ]
  },
  {
   "cell_type": "markdown",
   "metadata": {},
   "source": [
    "### What's the range of Sepal Length?"
   ]
  },
  {
   "cell_type": "code",
   "execution_count": 170,
   "metadata": {},
   "outputs": [
    {
     "name": "stdout",
     "output_type": "stream",
     "text": [
      "4.3  to  7.9\n"
     ]
    }
   ],
   "source": [
    "print(min(iris_df['Sepal Length']),\" to \",max(iris_df['Sepal Length']))"
   ]
  },
  {
   "cell_type": "code",
   "execution_count": null,
   "metadata": {},
   "outputs": [],
   "source": [
    "iris_df['Class'].describe()"
   ]
  },
  {
   "cell_type": "code",
   "execution_count": 172,
   "metadata": {},
   "outputs": [
    {
     "name": "stdout",
     "output_type": "stream",
     "text": [
      "3\n",
      "<class 'numpy.ndarray'>\n"
     ]
    }
   ],
   "source": [
    "# Checking species\n",
    "labels = iris_df['Class'].unique()\n",
    "print(len(labels))\n",
    "print(type(labels))"
   ]
  },
  {
   "cell_type": "code",
   "execution_count": 173,
   "metadata": {},
   "outputs": [
    {
     "data": {
      "text/plain": [
       "[0, 1, 2]"
      ]
     },
     "execution_count": 173,
     "metadata": {},
     "output_type": "execute_result"
    }
   ],
   "source": [
    "labels.tolist()"
   ]
  },
  {
   "cell_type": "code",
   "execution_count": null,
   "metadata": {},
   "outputs": [],
   "source": [
    "# filtering by label (species)\n",
    "indices = iris_df['Class'] == 0\n",
    "setosa = iris_df.loc[indices, :] # extract a new data frame\n",
    "setosa"
   ]
  },
  {
   "cell_type": "markdown",
   "metadata": {},
   "source": [
    "### Plotting the data"
   ]
  },
  {
   "cell_type": "code",
   "execution_count": 176,
   "metadata": {},
   "outputs": [
    {
     "data": {
      "image/png": "[encoded data removed]",
      "text/plain": [
       "<matplotlib.figure.Figure at 0x2735a43d7f0>"
      ]
     },
     "metadata": {},
     "output_type": "display_data"
    }
   ],
   "source": [
    "plt.plot(iris_df['Petal Length'][:10], iris_df['Petal Width'][:10])\n",
    "\n",
    "# Label the axes\n",
    "_ = plt.xlabel('Petal Length')\n",
    "_ = plt.ylabel('Petal Width')\n",
    "\n",
    "# #label the figure\n",
    "plt.title('Petal Length vs. Petal Width ');\n"
   ]
  },
  {
   "cell_type": "code",
   "execution_count": 177,
   "metadata": {},
   "outputs": [],
   "source": [
    "# introspection\n",
    "plt.scatter?\n"
   ]
  },
  {
   "cell_type": "code",
   "execution_count": 178,
   "metadata": {},
   "outputs": [
    {
     "data": {
      "image/png": "[encoded data removed]",
      "text/plain": [
       "<matplotlib.figure.Figure at 0x2735a8d8048>"
      ]
     },
     "metadata": {},
     "output_type": "display_data"
    }
   ],
   "source": [
    "# Start with a plot figure of width 12 units and height 9 units \n",
    "plt.figure(figsize=(12,9))\n",
    "\n",
    "# Create an array of three colours, one for each species.\n",
    "#colors = np.array(['red', 'green', 'blue'])\n",
    "\n",
    "#Draw a Scatter plot for Sepal Length vs Sepal Width\n",
    "#nrows=1, ncols=2, plot_number=1\n",
    "# http://matplotlib.org/api/pyplot_api.html#matplotlib.pyplot.subplot or plt.subplot?\n",
    "plt.subplot(1, 2, 1)\n",
    "\n",
    "# http://matplotlib.org/api/pyplot_api.html#matplotlib.pyplot.scatter\n",
    "plt.scatter(iris_df['Sepal Length'], iris_df['Sepal Width'], c=colors[iris_df['Class']], s=10, marker = 'o')\n",
    "plt.title('Sepal Length vs Sepal Width')\n",
    "plt.xlabel('Sepal Length')\n",
    "plt.ylabel('Sepal Width')\n",
    "\n",
    "plt.subplot(1,2,2)\n",
    "plt.scatter(iris_df['Petal Length'].values, iris_df['Petal Width'].values, c= colors[iris_df.Class], s=12, marker = 's')\n",
    "plt.xlabel('Petal Length')\n",
    "plt.ylabel('Petal Width')\n",
    "_ =plt.title('Petal Length vs Petal Width')"
   ]
  },
  {
   "cell_type": "markdown",
   "metadata": {},
   "source": [
    "More plotting examples at: http://matplotlib.org/examples/index.html"
   ]
  },
  {
   "cell_type": "code",
   "execution_count": 179,
   "metadata": {},
   "outputs": [
    {
     "data": {
      "image/png": "[encoded data removed]",
      "text/plain": [
       "<matplotlib.figure.Figure at 0x2735a8c6cf8>"
      ]
     },
     "metadata": {},
     "output_type": "display_data"
    }
   ],
   "source": [
    "### using pandas plot function\n",
    "iris_df.plot(x='Sepal Length', y='Sepal Width');"
   ]
  },
  {
   "cell_type": "code",
   "execution_count": 180,
   "metadata": {},
   "outputs": [
    {
     "data": {
      "image/png": "[encoded data removed]",
      "text/plain": [
       "<matplotlib.figure.Figure at 0x2735a462eb8>"
      ]
     },
     "metadata": {},
     "output_type": "display_data"
    }
   ],
   "source": [
    "iris_df.plot(x='Sepal Length', y='Sepal Width', kind = 'scatter');"
   ]
  },
  {
   "cell_type": "code",
   "execution_count": null,
   "metadata": {},
   "outputs": [],
   "source": [
    "# loading data from a .csv file in a pandas dataframe\n",
    "\n",
    "import pandas as pd\n",
    "iris_filename = 'datasets-uci-iris.csv'\n",
    "iris = pd.read_csv(iris_filename, sep=',', decimal='.', header=None,\n",
    "names= ['sepal_length', 'sepal_width', \n",
    "        'petal_length', 'petal_width',\n",
    "        'target'])"
   ]
  },
  {
   "cell_type": "markdown",
   "metadata": {},
   "source": [
    "### Train test dataset  spliting"
   ]
  },
  {
   "cell_type": "code",
   "execution_count": 181,
   "metadata": {},
   "outputs": [
    {
     "name": "stdout",
     "output_type": "stream",
     "text": [
      "150\n",
      "113\n"
     ]
    }
   ],
   "source": [
    "np.seed = 42\n",
    "\n",
    "# number of observations\n",
    "n = X.shape[0]\n",
    "print(n)\n",
    "is_train = np.random.rand(n) < 0.7 # Create an array of the given shape and populate it with\n",
    "                                   # random samples from a uniform distribution, and mask the numbers smaller than 0.7\n",
    "                                   # the result is a boolean vector\n",
    "print(sum(is_train))\n",
    "\n"
   ]
  },
  {
   "cell_type": "code",
   "execution_count": 182,
   "metadata": {},
   "outputs": [
    {
     "name": "stdout",
     "output_type": "stream",
     "text": [
      "Size of training features matrix: (113, 4)\n",
      "Size of training labels vector: (113,)\n",
      "Size of test features matrix : (37, 4)\n",
      "Size of test labels vector: (37,)\n"
     ]
    }
   ],
   "source": [
    "X_train = X[is_train]  # boolean masking\n",
    "y_train = y[is_train]\n",
    "X_test = X[~is_train]\n",
    "y_test = y[~is_train]\n",
    "print('Size of training features matrix:', X_train.shape)\n",
    "print('Size of training labels vector:', y_train.shape)\n",
    "print('Size of test features matrix :', X_test.shape)\n",
    "print('Size of test labels vector:', y_test.shape)"
   ]
  },
  {
   "cell_type": "markdown",
   "metadata": {},
   "source": [
    " ### Train test dataset  spliting using  *model_selection* class from sklearn"
   ]
  },
  {
   "cell_type": "code",
   "execution_count": 183,
   "metadata": {},
   "outputs": [],
   "source": [
    "from sklearn import model_selection\n",
    "\n",
    "# Split-out validation dataset\n",
    "array = iris_df.values\n",
    "type(array)\n",
    "array.shape\n",
    "X = array[:,0:4]\n",
    "Y = array[:,4]\n",
    "validation_size = 0.3\n",
    "seed = 7\n",
    "X_train_2, X_validation_2, Y_train_2, Y_validation_2 = model_selection.train_test_split(X, Y, test_size=validation_size, random_state=seed)"
   ]
  },
  {
   "cell_type": "code",
   "execution_count": 184,
   "metadata": {},
   "outputs": [
    {
     "data": {
      "text/plain": [
       "(105, 4)"
      ]
     },
     "execution_count": 184,
     "metadata": {},
     "output_type": "execute_result"
    }
   ],
   "source": [
    "X_train_2.shape"
   ]
  },
  {
   "cell_type": "code",
   "execution_count": null,
   "metadata": {},
   "outputs": [],
   "source": []
  }
 ],
 "metadata": {
  "kernelspec": {
   "display_name": "Python 3",
   "language": "python",
   "name": "python3"
  },
  "language_info": {
   "codemirror_mode": {
    "name": "ipython",
    "version": 3
   },
   "file_extension": ".py",
   "mimetype": "text/x-python",
   "name": "python",
   "nbconvert_exporter": "python",
   "pygments_lexer": "ipython3",
   "version": "3.7.3"
  }
 },
 "nbformat": 4,
 "nbformat_minor": 2
}
