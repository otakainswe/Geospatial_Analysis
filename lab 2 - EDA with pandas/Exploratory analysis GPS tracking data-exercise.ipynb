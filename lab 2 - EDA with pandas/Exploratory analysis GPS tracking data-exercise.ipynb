{
 "cells": [
  {
   "cell_type": "code",
   "execution_count": 1,
   "metadata": {},
   "outputs": [
    {
     "name": "stderr",
     "output_type": "stream",
     "text": [
      "UsageError: unrecognized arguments: # run this cell in order to have your plots in the notebook; otherwise use plt.show() to see each plot\n"
     ]
    }
   ],
   "source": [
    "%matplotlib inline # run this cell in order to have your plots in the notebook; otherwise use plt.show() to see each plot"
   ]
  },
  {
   "cell_type": "markdown",
   "metadata": {},
   "source": [
    "## Exploratory spatial data analyis with *pandas*"
   ]
  },
  {
   "cell_type": "markdown",
   "metadata": {},
   "source": [
    "#### Exploratory data analysis\n",
    " is the first stage in a data science study, after data collection. The goal of this stage is to get insight into a dataset, explore the underlining stucture and patterns in the data as well as to identify outliers, missing vales, normalize or transform data. \n",
    "Main tools involved in this processare summary statics and graphics.\n",
    "\n",
    "In this exercise you will:\n",
    "- performe basic statistics on pandas dataframe\n",
    "- experiment different plotting options\n",
    "- deal with coordinates systems and projections in python by using functionality from cartopy library\n",
    "- practice with time data \n",
    "- perform agregation operations on pandas GroupBy objects\n",
    "- practice for loops, list comprehensions, boolean masking, and dataframe manipulation\n",
    "\n",
    "\n",
    "\n",
    "For this exercise we will use a subset of one of the datasets realised by [LifeWatch INBO project](https://inbo.carto.com/u/lifewatch/datasets).\n"
   ]
  },
  {
   "cell_type": "markdown",
   "metadata": {},
   "source": [
    "#### Task 01: Import the necesary python libraries\n",
    "To solve this exercise, please, import following python libraries: pandas, numpy, matplotlib.pyplot\n",
    " "
   ]
  },
  {
   "cell_type": "code",
   "execution_count": 3,
   "metadata": {},
   "outputs": [],
   "source": [
    "import numpy as np\n",
    "import pandas as pd\n",
    "import matplotlib.pyplot as plt\n",
    "\n"
   ]
  },
  {
   "cell_type": "markdown",
   "metadata": {},
   "source": [
    "#### Task 02: Reading the data and getting a first ideea about the dataset\n",
    "- Read the file GPS_tracking.csv in a pandas DataFrame (DF). *Hint: pandas.read_csv()* . (don't forget that you imported pandas using a shorer name - alias)\n",
    "\n",
    "Make sure the .csv file is located in your working directory or provide the full path to the data.\n",
    "- Get basic information about the data using pandas *.info(),.head()* and *.tail()* methods."
   ]
  },
  {
   "cell_type": "code",
   "execution_count": 4,
   "metadata": {},
   "outputs": [],
   "source": [
    "birddata = pd.read_csv('/Users/takayuki/Document/TUB/Geospatil_Analysis/lab 2 - EDA with pandas/GPS_tracking.csv')"
   ]
  },
  {
   "cell_type": "code",
   "execution_count": 5,
   "metadata": {},
   "outputs": [
    {
     "name": "stdout",
     "output_type": "stream",
     "text": [
      "<class 'pandas.core.frame.DataFrame'>\n",
      "RangeIndex: 61920 entries, 0 to 61919\n",
      "Data columns (total 8 columns):\n",
      "altitude              61920 non-null int64\n",
      "date_time             61920 non-null object\n",
      "device_info_serial    61920 non-null int64\n",
      "direction             61477 non-null float64\n",
      "latitude              61920 non-null float64\n",
      "longitude             61920 non-null float64\n",
      "speed_2d              61477 non-null float64\n",
      "bird_name             61920 non-null object\n",
      "dtypes: float64(4), int64(2), object(2)\n",
      "memory usage: 3.8+ MB\n"
     ]
    }
   ],
   "source": [
    "birddata.info()"
   ]
  },
  {
   "cell_type": "code",
   "execution_count": 6,
   "metadata": {},
   "outputs": [],
   "source": [
    "# one line of code"
   ]
  },
  {
   "cell_type": "code",
   "execution_count": 7,
   "metadata": {},
   "outputs": [],
   "source": [
    "# one line of code"
   ]
  },
  {
   "cell_type": "code",
   "execution_count": 8,
   "metadata": {},
   "outputs": [
    {
     "data": {
      "text/plain": [
       "0    Eric\n",
       "1    Eric\n",
       "2    Eric\n",
       "3    Eric\n",
       "4    Eric\n",
       "5    Eric\n",
       "6    Eric\n",
       "7    Eric\n",
       "8    Eric\n",
       "9    Eric\n",
       "Name: bird_name, dtype: object"
      ]
     },
     "execution_count": 8,
     "metadata": {},
     "output_type": "execute_result"
    }
   ],
   "source": [
    "birddata.bird_name[:10]"
   ]
  },
  {
   "cell_type": "code",
   "execution_count": 9,
   "metadata": {},
   "outputs": [
    {
     "data": {
      "text/plain": [
       "0    Eric\n",
       "1    Eric\n",
       "2    Eric\n",
       "3    Eric\n",
       "4    Eric\n",
       "Name: bird_name, dtype: object"
      ]
     },
     "execution_count": 9,
     "metadata": {},
     "output_type": "execute_result"
    }
   ],
   "source": [
    "# another way\n",
    "birddata[\"bird_name\"][:5]"
   ]
  },
  {
   "cell_type": "markdown",
   "metadata": {},
   "source": [
    "#### Task 03: Extracting the unique values in a column\n",
    "\n",
    "\n",
    "Extract the names of the birds whose trajectories are recorded in the dataset. Hint: pandas.unique ? on the column containing the birds ' names"
   ]
  },
  {
   "cell_type": "code",
   "execution_count": 10,
   "metadata": {},
   "outputs": [
    {
     "data": {
      "text/plain": [
       "array(['Eric', 'Nico', 'Sanne'], dtype=object)"
      ]
     },
     "execution_count": 10,
     "metadata": {},
     "output_type": "execute_result"
    }
   ],
   "source": [
    "bird_names = birddata['bird_name'].unique()\n",
    "bird_names"
   ]
  },
  {
   "cell_type": "markdown",
   "metadata": {},
   "source": [
    "#### Task 03: Basic plotting with *matplotlib*\n",
    "\n",
    "We will start by plotting the latitude and longitude of a flight trajectory for a single bird (of your choice) in a standard two dimensional plot. In order to accomplish this task you will:\n",
    "\n",
    " - extract the indices in the DF corresponding to the chosen bird_name in a variable idx\n",
    " - extract the X and Y-coordinates (as a tuple) of the flight trajectories ( Xs correspond to the values stored in  longitude column, ys corresponds to the values stored in  latitude column) from longitude and latitude columns using the boolean array previously stored *idx* variable \n",
    " \n",
    " - plot the trajectory of the chosen bird as a line unsing the plt.plot. The default colour is blue; please experiment with changing the color. Use '.' as marker type. Change also the value of the linewidth parameter.\n",
    " \n"
   ]
  },
  {
   "cell_type": "code",
   "execution_count": 11,
   "metadata": {
    "scrolled": true
   },
   "outputs": [
    {
     "data": {
      "text/plain": [
       "0         True\n",
       "1         True\n",
       "2         True\n",
       "3         True\n",
       "4         True\n",
       "5         True\n",
       "6         True\n",
       "7         True\n",
       "8         True\n",
       "9         True\n",
       "10        True\n",
       "11        True\n",
       "12        True\n",
       "13        True\n",
       "14        True\n",
       "15        True\n",
       "16        True\n",
       "17        True\n",
       "18        True\n",
       "19        True\n",
       "20        True\n",
       "21        True\n",
       "22        True\n",
       "23        True\n",
       "24        True\n",
       "25        True\n",
       "26        True\n",
       "27        True\n",
       "28        True\n",
       "29        True\n",
       "         ...  \n",
       "61890    False\n",
       "61891    False\n",
       "61892    False\n",
       "61893    False\n",
       "61894    False\n",
       "61895    False\n",
       "61896    False\n",
       "61897    False\n",
       "61898    False\n",
       "61899    False\n",
       "61900    False\n",
       "61901    False\n",
       "61902    False\n",
       "61903    False\n",
       "61904    False\n",
       "61905    False\n",
       "61906    False\n",
       "61907    False\n",
       "61908    False\n",
       "61909    False\n",
       "61910    False\n",
       "61911    False\n",
       "61912    False\n",
       "61913    False\n",
       "61914    False\n",
       "61915    False\n",
       "61916    False\n",
       "61917    False\n",
       "61918    False\n",
       "61919    False\n",
       "Name: bird_name, Length: 61920, dtype: bool"
      ]
     },
     "execution_count": 11,
     "metadata": {},
     "output_type": "execute_result"
    }
   ],
   "source": [
    "idx = birddata['bird_name'] == 'Eric'\n",
    "idx"
   ]
  },
  {
   "cell_type": "code",
   "execution_count": 12,
   "metadata": {},
   "outputs": [
    {
     "data": {
      "text/plain": [
       "0        2.120733\n",
       "1        2.120746\n",
       "2        2.120885\n",
       "3        2.120859\n",
       "4        2.120887\n",
       "5        2.120840\n",
       "6        2.120901\n",
       "7        2.120809\n",
       "8        2.120860\n",
       "9        2.121301\n",
       "10       2.120850\n",
       "11       2.121236\n",
       "12       2.121362\n",
       "13       2.152945\n",
       "14       2.152989\n",
       "15       2.153052\n",
       "16       2.153097\n",
       "17       2.152993\n",
       "18       2.153009\n",
       "19       2.162817\n",
       "20       2.193876\n",
       "21       2.194880\n",
       "22       2.194862\n",
       "23       2.194836\n",
       "24       2.194866\n",
       "25       2.234223\n",
       "26       2.247980\n",
       "27       2.224581\n",
       "28       2.252524\n",
       "29       2.252949\n",
       "           ...   \n",
       "19765    3.388995\n",
       "19766    3.413596\n",
       "19767    3.354105\n",
       "19768    3.355686\n",
       "19769    3.309810\n",
       "19770    3.345546\n",
       "19771    3.358302\n",
       "19772    3.359888\n",
       "19773    3.359905\n",
       "19774    3.339680\n",
       "19775    3.276436\n",
       "19776    3.367717\n",
       "19777    3.395449\n",
       "19778    3.425730\n",
       "19779    3.427635\n",
       "19780    3.431588\n",
       "19781    3.431753\n",
       "19782    3.427535\n",
       "19783    3.406217\n",
       "19784    3.301086\n",
       "19785    3.216247\n",
       "19786    3.216455\n",
       "19787    3.216570\n",
       "19788    3.216395\n",
       "19789    3.216280\n",
       "19790    3.216576\n",
       "19791    3.216659\n",
       "19792    3.216463\n",
       "19793    3.216340\n",
       "19794    3.216296\n",
       "Name: longitude, Length: 19795, dtype: float64"
      ]
     },
     "execution_count": 12,
     "metadata": {},
     "output_type": "execute_result"
    }
   ],
   "source": [
    "X, Y = birddata.longitude[idx],birddata.latitude[idx]\n",
    "X"
   ]
  },
  {
   "cell_type": "markdown",
   "metadata": {},
   "source": [
    "The code in the following cell creates a figure object of size (7,7)  which will serve as a container for your plot."
   ]
  },
  {
   "cell_type": "code",
   "execution_count": 13,
   "metadata": {},
   "outputs": [
    {
     "data": {
      "text/plain": [
       "<Figure size 504x504 with 0 Axes>"
      ]
     },
     "metadata": {},
     "output_type": "display_data"
    }
   ],
   "source": [
    "plt.figure(figsize =(7,7));"
   ]
  },
  {
   "cell_type": "code",
   "execution_count": 14,
   "metadata": {},
   "outputs": [
    {
     "data": {
      "image/png": "[encoded data removed]",
      "text/plain": [
       "<Figure size 432x288 with 1 Axes>"
      ]
     },
     "metadata": {
      "needs_background": "light"
     },
     "output_type": "display_data"
    }
   ],
   "source": [
    "# _ is a dummy variable which we don't have interest\n",
    "_ = plt.plot(X,Y, marker = '.')"
   ]
  },
  {
   "cell_type": "markdown",
   "metadata": {},
   "source": [
    "What do you think about plotting the trajectory using this method? What did we neglected by plotting the recorded positions as points in a cartesian system of coordinates?"
   ]
  },
  {
   "cell_type": "markdown",
   "metadata": {},
   "source": [
    "##### Task 03 b: plotting the trajectories of all birds in a sigle plot\n",
    "\n",
    "The task is similar to the previous one, but you have to loop over all three birds:\n",
    "- loop over the list bird_names. Hint: use a 'for' loop and the operator 'in'\n",
    "- within the loop solve for the tasks you accomplished at 3a.\n",
    "> - extract the indices in the DF corresponding to a bird (represented by your looping valiable) in a variable idx \n",
    "> - extract the X and Y-coordinates (as a tuple of cartesian coordinates) of the flight trajectories \n",
    "> - to identify the trajectory corresponding to a particular bird in your plot you can label the different plots (Hint: assign to the label argument of the plot the value 'bird_name' aka the looping var\n",
    "- add  x and y axis labels Hint: plt.xlabel()\n",
    "- add a legend Hint: plt.legend(loc = ' ') possible values for loc = : 'best', 'lower right', 'upper left', 'right', etc-\n",
    "- save your figure using plt.figure('a_name.pdf')\n",
    "\n",
    "\n"
   ]
  },
  {
   "cell_type": "code",
   "execution_count": 15,
   "metadata": {
    "scrolled": true
   },
   "outputs": [
    {
     "data": {
      "image/png": "[encoded data removed]",
      "text/plain": [
       "<Figure size 576x576 with 1 Axes>"
      ]
     },
     "metadata": {
      "needs_background": "light"
     },
     "output_type": "display_data"
    }
   ],
   "source": [
    "\n",
    "# create a figure object with size (8,8)\n",
    "plt.figure(figsize = (8,8))\n",
    "for name in bird_names:\n",
    "    ix = birddata['bird_name'] == name # bool data. Iterate eric, nico, sanne. \n",
    "    x, y = birddata.longitude[ix], birddata.latitude[ix] # store data only true\n",
    "    plt.plot(x,y,'.',label = name)\n",
    "    plt.xlabel('Longitude')\n",
    "    plt.ylabel('Latitude')\n",
    "plt.legend(loc = 'best')\n",
    "plt.savefig('birds_trajectories.pdf')\n",
    "\n",
    "# plot legend\n",
    "\n",
    "\n",
    "# save figure\n",
    "    \n",
    "    "
   ]
  },
  {
   "cell_type": "markdown",
   "metadata": {},
   "source": [
    "#### Task 04: Examining the speed 2D"
   ]
  },
  {
   "cell_type": "markdown",
   "metadata": {},
   "source": [
    "The data also contain estimates of two dimensional speeds of the birds.\n",
    "- extract the speed data for a chosen bird in a similar way as you did at task 04.\n",
    "- plot a histogram for the seed data corresponding to the chosen bird unsing the method plt.hist() with the speed data and the default parameters\n",
    "- check the parameters of .hist() method\n"
   ]
  },
  {
   "cell_type": "code",
   "execution_count": 17,
   "metadata": {},
   "outputs": [
    {
     "data": {
      "text/plain": [
       "(array([1.7732e+04, 1.5020e+03, 3.6900e+02, 7.8000e+01, 1.2000e+01,\n",
       "        7.0000e+00, 3.0000e+00, 2.0000e+00, 3.0000e+00, 2.0000e+00]),\n",
       " array([ 0.        ,  6.34880658, 12.69761316, 19.04641974, 25.39522632,\n",
       "        31.7440329 , 38.09283948, 44.44164607, 50.79045265, 57.13925923,\n",
       "        63.48806581]),\n",
       " <a list of 10 Patch objects>)"
      ]
     },
     "execution_count": 17,
     "metadata": {},
     "output_type": "execute_result"
    },
    {
     "data": {
      "image/png": "[encoded data removed]",
      "text/plain": [
       "<Figure size 432x288 with 1 Axes>"
      ]
     },
     "metadata": {
      "needs_background": "light"
     },
     "output_type": "display_data"
    }
   ],
   "source": [
    "ix = birddata['bird_name'] == 'Eric'\n",
    "speed = birddata.speed_2d[ix]\n",
    "# plot the histogram of the data stored in the speed variable with the default parameters\n",
    "plt.hist(speed)\n",
    "# one line of code"
   ]
  },
  {
   "cell_type": "markdown",
   "metadata": {},
   "source": [
    "##### Task 04 -b: Identifying the cause of error"
   ]
  },
  {
   "cell_type": "code",
   "execution_count": 18,
   "metadata": {},
   "outputs": [
    {
     "data": {
      "text/plain": [
       "(array([3., 1., 0., 0., 1., 2., 2., 0., 0., 1.]),\n",
       " array([0.15      , 0.59422108, 1.03844216, 1.48266324, 1.92688432,\n",
       "        2.3711054 , 2.81532648, 3.25954756, 3.70376864, 4.14798972,\n",
       "        4.5922108 ]),\n",
       " <a list of 10 Patch objects>)"
      ]
     },
     "execution_count": 18,
     "metadata": {},
     "output_type": "execute_result"
    },
    {
     "data": {
      "image/png": "[encoded data removed]",
      "text/plain": [
       "<Figure size 432x288 with 1 Axes>"
      ]
     },
     "metadata": {
      "needs_background": "light"
     },
     "output_type": "display_data"
    }
   ],
   "source": [
    "# plot the histogram of only the first 10 data points stored in the speed variable with the default parameters\n",
    "plt.hist(speed[:10])\n",
    "# one line of code"
   ]
  },
  {
   "cell_type": "markdown",
   "metadata": {},
   "source": [
    "Since we get a histogram when plotting only the first 10 data points, it is reasonable to think that our data contains some invalid values. That's why, we have to check what data is contained in our array.\n",
    "-  Check if the 'speed' array contains non-number objects.For this you can use NumPy function *isnan* which takes as input an array and returns a boolean value"
   ]
  },
  {
   "cell_type": "code",
   "execution_count": 19,
   "metadata": {},
   "outputs": [
    {
     "data": {
      "text/plain": [
       "0        False\n",
       "1        False\n",
       "2        False\n",
       "3        False\n",
       "4        False\n",
       "5        False\n",
       "6        False\n",
       "7        False\n",
       "8        False\n",
       "9        False\n",
       "10       False\n",
       "11       False\n",
       "12       False\n",
       "13       False\n",
       "14       False\n",
       "15       False\n",
       "16       False\n",
       "17       False\n",
       "18       False\n",
       "19       False\n",
       "20       False\n",
       "21       False\n",
       "22       False\n",
       "23       False\n",
       "24       False\n",
       "25       False\n",
       "26       False\n",
       "27       False\n",
       "28       False\n",
       "29       False\n",
       "         ...  \n",
       "19765    False\n",
       "19766    False\n",
       "19767    False\n",
       "19768    False\n",
       "19769    False\n",
       "19770    False\n",
       "19771     True\n",
       "19772    False\n",
       "19773    False\n",
       "19774    False\n",
       "19775    False\n",
       "19776    False\n",
       "19777    False\n",
       "19778     True\n",
       "19779    False\n",
       "19780    False\n",
       "19781    False\n",
       "19782    False\n",
       "19783    False\n",
       "19784    False\n",
       "19785    False\n",
       "19786    False\n",
       "19787    False\n",
       "19788    False\n",
       "19789    False\n",
       "19790    False\n",
       "19791    False\n",
       "19792    False\n",
       "19793    False\n",
       "19794    False\n",
       "Name: speed_2d, Length: 19795, dtype: bool"
      ]
     },
     "execution_count": 19,
     "metadata": {},
     "output_type": "execute_result"
    }
   ],
   "source": [
    "# check if there is NaN(Not a Number) value\n",
    "np.isnan(speed)"
   ]
  },
  {
   "cell_type": "markdown",
   "metadata": {},
   "source": [
    "- For a more concise answer, take the previous line of code and use the *np.any()* method to ask if any of the output is equal to true.\n",
    "- A related method is *np.all()*. Please anticipate the output of applying the two methods on the previous line before running the code.\n",
    "- Find out how many NaNs we exactly have in our speed array. Hint: np.sum() used with a boolean array convers True to 1 and False to 0"
   ]
  },
  {
   "cell_type": "code",
   "execution_count": 20,
   "metadata": {},
   "outputs": [
    {
     "name": "stdout",
     "output_type": "stream",
     "text": [
      "True\n",
      "False\n"
     ]
    }
   ],
   "source": [
    "print(np.any(np.isnan(speed)))\n",
    "print(np.all(np.isnan(speed)))"
   ]
  },
  {
   "cell_type": "code",
   "execution_count": 21,
   "metadata": {},
   "outputs": [
    {
     "name": "stdout",
     "output_type": "stream",
     "text": [
      "85\n"
     ]
    }
   ],
   "source": [
    "# compute the nr of NaNs in our 'speed' array\n",
    "nr_nans = np.sum(np.isnan(speed))\n",
    "print(nr_nans)"
   ]
  },
  {
   "cell_type": "markdown",
   "metadata": {},
   "source": [
    "After detecting the missing values in our data, we want to include as input to out histogram plot only those observations that are actually numeric. For this we have to apply the following steps:\n",
    "- find the NaNs in the 'speed' array and assign the output to a variable ind \n",
    "- check the type of the values in'ind' (you can print the vector)\n",
    "- plot the bitwise complement of the ind array using the operator ' ~ ' (turns each occurrence of true to a false and vice versa); Also,\n",
    "> -  a histogram is informative when the bin width fits to the data. Change the value of the *bins* argument in order to best describe your data; Hint: you can use np.linspace(start_val, end_val, nr_values) to generate the borders of the bins; you can start with np.linspace(0,30,20) and try to find those values for the bins widths that best reflect the data distribution\n",
    "> -  add meaningful axes labels. Hint: the Y axis is the 'Frequency'\n",
    "> -  normalize the histogram\n",
    "\n"
   ]
  },
  {
   "cell_type": "code",
   "execution_count": 22,
   "metadata": {
    "scrolled": true
   },
   "outputs": [
    {
     "name": "stdout",
     "output_type": "stream",
     "text": [
      "0         True\n",
      "1         True\n",
      "2         True\n",
      "3         True\n",
      "4         True\n",
      "5         True\n",
      "6         True\n",
      "7         True\n",
      "8         True\n",
      "9         True\n",
      "10        True\n",
      "11        True\n",
      "12        True\n",
      "13        True\n",
      "14        True\n",
      "15        True\n",
      "16        True\n",
      "17        True\n",
      "18        True\n",
      "19        True\n",
      "20        True\n",
      "21        True\n",
      "22        True\n",
      "23        True\n",
      "24        True\n",
      "25        True\n",
      "26        True\n",
      "27        True\n",
      "28        True\n",
      "29        True\n",
      "         ...  \n",
      "19765     True\n",
      "19766     True\n",
      "19767     True\n",
      "19768     True\n",
      "19769     True\n",
      "19770     True\n",
      "19771    False\n",
      "19772     True\n",
      "19773     True\n",
      "19774     True\n",
      "19775     True\n",
      "19776     True\n",
      "19777     True\n",
      "19778    False\n",
      "19779     True\n",
      "19780     True\n",
      "19781     True\n",
      "19782     True\n",
      "19783     True\n",
      "19784     True\n",
      "19785     True\n",
      "19786     True\n",
      "19787     True\n",
      "19788     True\n",
      "19789     True\n",
      "19790     True\n",
      "19791     True\n",
      "19792     True\n",
      "19793     True\n",
      "19794     True\n",
      "Name: speed_2d, Length: 19795, dtype: bool\n"
     ]
    }
   ],
   "source": [
    "# '~' makes the value opposite\n",
    "ind_n = ~np.isnan(speed) \n",
    "print(ind_n)"
   ]
  },
  {
   "cell_type": "code",
   "execution_count": 23,
   "metadata": {},
   "outputs": [
    {
     "data": {
      "text/plain": [
       "(array([4.405e+03, 2.982e+03, 1.987e+03, 1.482e+03, 1.204e+03, 1.070e+03,\n",
       "        8.590e+02, 7.020e+02, 4.930e+02, 4.580e+02, 3.400e+02, 2.560e+02,\n",
       "        2.400e+02, 2.300e+02, 1.970e+02, 1.690e+02, 1.410e+02, 1.460e+02,\n",
       "        1.240e+02, 1.340e+02, 1.160e+02, 1.030e+02, 1.040e+02, 1.060e+02,\n",
       "        1.170e+02, 7.900e+01, 8.900e+01, 8.700e+01, 6.900e+01, 7.100e+01,\n",
       "        8.900e+01, 6.500e+01, 7.100e+01, 6.600e+01, 6.100e+01, 4.900e+01,\n",
       "        4.500e+01, 5.500e+01, 6.000e+01, 5.100e+01, 3.500e+01, 3.100e+01,\n",
       "        2.900e+01, 2.900e+01, 2.200e+01, 2.900e+01, 2.700e+01, 2.900e+01,\n",
       "        2.100e+01, 2.400e+01, 1.400e+01, 1.400e+01, 1.200e+01, 1.300e+01,\n",
       "        1.400e+01, 1.100e+01, 1.600e+01, 1.500e+01, 1.100e+01, 1.500e+01,\n",
       "        5.000e+00, 1.000e+01, 6.000e+00, 7.000e+00, 3.000e+00, 9.000e+00,\n",
       "        3.000e+00, 4.000e+00, 4.000e+00, 3.000e+00, 7.000e+00, 7.000e+00,\n",
       "        2.000e+00, 3.000e+00, 5.000e+00, 0.000e+00, 4.000e+00, 3.000e+00,\n",
       "        1.000e+00, 3.000e+00, 1.000e+00, 1.000e+00, 5.000e+00, 2.000e+00,\n",
       "        0.000e+00, 0.000e+00, 5.000e+00, 1.000e+00, 1.000e+00, 0.000e+00,\n",
       "        2.000e+00, 0.000e+00, 1.000e+00, 0.000e+00, 0.000e+00, 0.000e+00,\n",
       "        0.000e+00, 0.000e+00, 0.000e+00]),\n",
       " array([ 0.        ,  0.3030303 ,  0.60606061,  0.90909091,  1.21212121,\n",
       "         1.51515152,  1.81818182,  2.12121212,  2.42424242,  2.72727273,\n",
       "         3.03030303,  3.33333333,  3.63636364,  3.93939394,  4.24242424,\n",
       "         4.54545455,  4.84848485,  5.15151515,  5.45454545,  5.75757576,\n",
       "         6.06060606,  6.36363636,  6.66666667,  6.96969697,  7.27272727,\n",
       "         7.57575758,  7.87878788,  8.18181818,  8.48484848,  8.78787879,\n",
       "         9.09090909,  9.39393939,  9.6969697 , 10.        , 10.3030303 ,\n",
       "        10.60606061, 10.90909091, 11.21212121, 11.51515152, 11.81818182,\n",
       "        12.12121212, 12.42424242, 12.72727273, 13.03030303, 13.33333333,\n",
       "        13.63636364, 13.93939394, 14.24242424, 14.54545455, 14.84848485,\n",
       "        15.15151515, 15.45454545, 15.75757576, 16.06060606, 16.36363636,\n",
       "        16.66666667, 16.96969697, 17.27272727, 17.57575758, 17.87878788,\n",
       "        18.18181818, 18.48484848, 18.78787879, 19.09090909, 19.39393939,\n",
       "        19.6969697 , 20.        , 20.3030303 , 20.60606061, 20.90909091,\n",
       "        21.21212121, 21.51515152, 21.81818182, 22.12121212, 22.42424242,\n",
       "        22.72727273, 23.03030303, 23.33333333, 23.63636364, 23.93939394,\n",
       "        24.24242424, 24.54545455, 24.84848485, 25.15151515, 25.45454545,\n",
       "        25.75757576, 26.06060606, 26.36363636, 26.66666667, 26.96969697,\n",
       "        27.27272727, 27.57575758, 27.87878788, 28.18181818, 28.48484848,\n",
       "        28.78787879, 29.09090909, 29.39393939, 29.6969697 , 30.        ]),\n",
       " <a list of 99 Patch objects>)"
      ]
     },
     "execution_count": 23,
     "metadata": {},
     "output_type": "execute_result"
    },
    {
     "data": {
      "image/png": "[encoded data removed]",
      "text/plain": [
       "<Figure size 360x360 with 1 Axes>"
      ]
     },
     "metadata": {
      "needs_background": "light"
     },
     "output_type": "display_data"
    }
   ],
   "source": [
    "plt.figure(figsize = (5,5));\n",
    "plt.hist(speed[ind_n], bins = np.linspace(0,30,100))\n"
   ]
  },
  {
   "cell_type": "markdown",
   "metadata": {},
   "source": [
    "#### Task 05: Plotting with pandas\n",
    "\n",
    "Pandas provides plotting functionality as well (wrapers to plt methods). Although less customizable than PLT plots, they solve some data issues such as dealing with NaNs.\n",
    "However always examine your data carefully and look for the presence of NaNs before preparing your plots!!\n",
    "\n",
    "**Pandas plotting functions are methods of data frame instances!.** ex: ...df.plot(kind = 'scatter', ...).\n",
    "You can plot a different figure by changing the value of the 'kind' argument of pandas plot function.\n",
    "\n",
    "- Use the introspection method to get a better understanding of ploting in pandas\n",
    "- plot a histogram of the speed_2d data providing  range = [0,30] as argument. Which is the role of 'range' argument? Can you find better values for range argument?\n",
    "- label x axis\n",
    "\n",
    "\n",
    "\n",
    "\n"
   ]
  },
  {
   "cell_type": "code",
   "execution_count": 24,
   "metadata": {},
   "outputs": [
    {
     "data": {
      "text/plain": [
       "Text(0.5, 0, '2D speed')"
      ]
     },
     "execution_count": 24,
     "metadata": {},
     "output_type": "execute_result"
    },
    {
     "data": {
      "image/png": "[encoded data removed]",
      "text/plain": [
       "<Figure size 432x288 with 1 Axes>"
      ]
     },
     "metadata": {
      "needs_background": "light"
     },
     "output_type": "display_data"
    }
   ],
   "source": [
    "birddata.speed_2d.plot(kind = 'hist', range = {0, 25})\n",
    "plt.xlabel('2D speed')\n",
    "# output -> many 0 values\n"
   ]
  },
  {
   "cell_type": "markdown",
   "metadata": {},
   "source": [
    "What impression do you get, from the shape of the histogram, about the distribution of speed data? \n",
    "\n",
    "Is it not similar with a histogram which you would possibly obtain if we would bin the salaries ... no matter where from?"
   ]
  },
  {
   "cell_type": "markdown",
   "metadata": {},
   "source": [
    "# Short intro to Cartopy\n",
    "\n",
    "Cartopy is a library (one of several main libraries) that provides cartographic tools for python. It provides an interface  for creating maps using matplotlib by providing a value for the *projection* argument. For learning more about cartopy please refer to the [official documentation](https://scitools.org.uk/cartopy/docs/latest/).\n",
    "\n",
    " [*cartopy.crs.CRS*](https://scitools.org.uk/cartopy/docs/latest/crs/index.html) class is the very core of cartopy, and the parent class for all coordinate reference systems in cartopy.\n",
    " \n",
    " [* GeoAxes*](https://scitools.org.uk/cartopy/docs/latest/matplotlib/geoaxes.html#cartopy.mpl.geoaxes.GeoAxes.add_feature) is another important class that provides integration of geographical information with Matplotlib. It adds extra functionality to  *axes* class from matplotlib, which is specific to drawing maps.\n",
    " \n",
    "The method **.add_feature()** of an **axes** object, allows, among others, to add to a plot/map some pre-defined Features that exist as cartopy.feature constants such as: BORDERS, COASTLINE, LAKES, LAND, OCEAN, RIVERS, STATES \n",
    "\n",
    "The maped area defined by the **.set_extent()** method of an **axes** object\n",
    "\n",
    "#### Task 06: Using Cartopy to plot data with cartographic projection\n",
    "\n",
    "I) setting up the figure\n",
    "1.  import the cartopy module and cartopy.crs class as ccrs - cartopy class that implements coordinate reference systems\n",
    "2.  import the class cartopy.feature as cfeature\n",
    "3.  create a projection object project and specify Mercator projection     (projection is a method of a ccrs object)\n",
    "4.  create a figure object using matplotlib of size (10, 10)\n",
    "5.  instantiate a axes object (using plt) and pass as argument the projection object you created at c)\n",
    "6.  set the extend of your figure (-25.0, 20.0, 52.0, 10.0) # this is a tuple suitable coordinates that were found by trial and error\n",
    "7. using the .add_feature() method on your axes objectand some geographic features to your map\n",
    "\n",
    "II) ploting the trajectories of the birds (your code will be very similar to the code you have written at Task 03 b)\n",
    "\n",
    "- loop over all of our bird names\n",
    "> - extract the rows from our data frame to correspond to that particular bird\n",
    "> - extract the longitude and latitude in variables x and y\n",
    "> - provide to the plot method the aditional argument: *transform = ccrs.Geodetic()*\n",
    "- add also a legend to your plot\n",
    " \n",
    "\n",
    "\n",
    "\n"
   ]
  },
  {
   "cell_type": "code",
   "execution_count": 25,
   "metadata": {},
   "outputs": [],
   "source": [
    "import cartopy.crs as ccrs\n",
    "import cartopy.feature as cfeature\n",
    "# I have to install cortopy on my mac"
   ]
  },
  {
   "cell_type": "code",
   "execution_count": 26,
   "metadata": {},
   "outputs": [],
   "source": [
    "import cartopy"
   ]
  },
  {
   "cell_type": "markdown",
   "metadata": {},
   "source": [
    "we need to specify a specific projection that we're interested in using."
   ]
  },
  {
   "cell_type": "code",
   "execution_count": 27,
   "metadata": {},
   "outputs": [
    {
     "data": {
      "text/plain": [
       "<cartopy.mpl.feature_artist.FeatureArtist at 0x123821860>"
      ]
     },
     "execution_count": 27,
     "metadata": {},
     "output_type": "execute_result"
    },
    {
     "data": {
      "image/png": "[encoded data removed]",
      "text/plain": [
       "<Figure size 720x720 with 1 Axes>"
      ]
     },
     "metadata": {
      "needs_background": "light"
     },
     "output_type": "display_data"
    }
   ],
   "source": [
    "# define mercator as projection\n",
    "proj= ccrs.Mercator()\n",
    "\n",
    "plt.figure(figsize = (10,10))\n",
    "\n",
    "ax = plt.axes(projection = proj)\n",
    "ax.set_extent((-25.0, 20.0, 52.0, 10.0))\n",
    "\n",
    "ax.add_feature(cfeature.BORDERS, linestyle =':')\n",
    "ax.add_feature(cfeature.OCEAN)\n",
    "ax.add_feature(cfeature.COASTLINE)\n",
    "# ax.add_feature(cfeature.LAND)\n",
    "# one line of code"
   ]
  },
  {
   "cell_type": "code",
   "execution_count": 28,
   "metadata": {},
   "outputs": [
    {
     "ename": "AttributeError",
     "evalue": "module 'matplotlib.pyplot' has no attribute 'ax'",
     "output_type": "error",
     "traceback": [
      "\u001b[0;31m---------------------------------------------------------------------------\u001b[0m",
      "\u001b[0;31mAttributeError\u001b[0m                            Traceback (most recent call last)",
      "\u001b[0;32m<ipython-input-28-d60b9f8a8439>\u001b[0m in \u001b[0;36m<module>\u001b[0;34m\u001b[0m\n\u001b[1;32m      5\u001b[0m \u001b[0;34m\u001b[0m\u001b[0m\n\u001b[1;32m      6\u001b[0m \u001b[0;31m#  ------------- errorr ------------\u001b[0m\u001b[0;34m\u001b[0m\u001b[0;34m\u001b[0m\u001b[0;34m\u001b[0m\u001b[0m\n\u001b[0;32m----> 7\u001b[0;31m \u001b[0mplt\u001b[0m\u001b[0;34m.\u001b[0m\u001b[0max\u001b[0m\u001b[0;34m.\u001b[0m\u001b[0mlegend\u001b[0m\u001b[0;34m(\u001b[0m\u001b[0mloc\u001b[0m \u001b[0;34m=\u001b[0m \u001b[0;34m'best'\u001b[0m\u001b[0;34m)\u001b[0m\u001b[0;34m\u001b[0m\u001b[0;34m\u001b[0m\u001b[0m\n\u001b[0m\u001b[1;32m      8\u001b[0m \u001b[0mplt\u001b[0m\u001b[0;34m.\u001b[0m\u001b[0max\u001b[0m\u001b[0;34m.\u001b[0m\u001b[0msavefig\u001b[0m\u001b[0;34m(\u001b[0m\u001b[0;34m'map.pdf'\u001b[0m\u001b[0;34m)\u001b[0m\u001b[0;34m\u001b[0m\u001b[0;34m\u001b[0m\u001b[0m\n\u001b[1;32m      9\u001b[0m \u001b[0mplt\u001b[0m\u001b[0;34m.\u001b[0m\u001b[0max\u001b[0m\u001b[0;34m.\u001b[0m\u001b[0mshow\u001b[0m\u001b[0;34m(\u001b[0m\u001b[0;34m)\u001b[0m\u001b[0;34m\u001b[0m\u001b[0;34m\u001b[0m\u001b[0m\n",
      "\u001b[0;31mAttributeError\u001b[0m: module 'matplotlib.pyplot' has no attribute 'ax'"
     ]
    }
   ],
   "source": [
    "for name in bird_names:\n",
    "    ix = birddata['bird_name'] == name\n",
    "    x,y = birddata.longitude[ix], birddata.latitude[ix]\n",
    "    ax.plot(x,y,'.',transform = ccrs.Geodetic(), label = name)\n",
    "    \n",
    "#  ------------- errorr ------------   \n",
    "plt.ax.legend(loc = 'best')\n",
    "plt.ax.savefig('map.pdf')\n",
    "plt.ax.show()   \n",
    "\n",
    "# ----------------------------------\n",
    "\n",
    "# plt.figure(figsize = (8,8))\n",
    "# for name in bird_names:\n",
    "#     ix = birddata['bird_name'] == name # bool data. Iterate eric, nico, sanne. \n",
    "#     x, y = birddata.longitude[ix], birddata.latitude[ix] # store data only true\n",
    "#     plt.plot(x,y,'.',label = name)\n",
    "#     plt.xlabel('Longitude')\n",
    "#     plt.ylabel('Latitude')\n",
    "# plt.legend(loc = 'best')\n",
    "# plt.savefig('birds_trajectories.pdf')"
   ]
  },
  {
   "cell_type": "markdown",
   "metadata": {},
   "source": [
    "#### Task 06: Dealing with timestamps and operations with timestamps\n",
    "\n",
    "- import *datetime* -  a python library that is is made for dealing with these types of data.\n",
    "- to operate on the time and date stamps, such as finding out how much time has elapsed between any two timestamps, we first need to convert them into so-called *daytime object*, that\n",
    "supports our arithmetic operations.\n",
    "- to become more familiar with the datetimelibrary, we call the function *today* from the module 'datetime'. It returns to us a datetime, datetime object, that consists of the current date and timestamp.\n",
    "- get the time elapsed between t1 and t2 by applying the arithmetic operation. The output is what's called a *time delta* object .\n",
    "\n",
    "\n",
    "- our dataframe contains a column 'date_time'. Look at a couple of entries in this column and check their type\n",
    "- assignt to a variable **date_string** the first entry in the 'date_time' column\n",
    "\n",
    "- convert the time observation (timestamps) **date_string** given as strings in **datetime object**\n",
    " \n"
   ]
  },
  {
   "cell_type": "code",
   "execution_count": null,
   "metadata": {},
   "outputs": [],
   "source": [
    "# one line of code\n",
    "import datetime"
   ]
  },
  {
   "cell_type": "code",
   "execution_count": null,
   "metadata": {},
   "outputs": [],
   "source": [
    "t1 = datetime.datetime.today()\n",
    "t1"
   ]
  },
  {
   "cell_type": "code",
   "execution_count": null,
   "metadata": {},
   "outputs": [],
   "source": [
    "t2 = datetime.datetime.today()\n",
    "t2"
   ]
  },
  {
   "cell_type": "code",
   "execution_count": null,
   "metadata": {},
   "outputs": [],
   "source": [
    "# one line of code\n",
    "time_diff = t2 - t1\n",
    "time_diff"
   ]
  },
  {
   "cell_type": "code",
   "execution_count": null,
   "metadata": {},
   "outputs": [],
   "source": [
    "# our dataframe contains a column 'date_time'. Look at a couple of entries in this column and check their type\n",
    "# one line of code\n",
    "birddata.loc[0:10, 'date_time']\n",
    "type(birddata.loc[0:10, 'date_time'])"
   ]
  },
  {
   "cell_type": "code",
   "execution_count": null,
   "metadata": {},
   "outputs": [],
   "source": [
    "# assignt to a variable date_string the first entry in the 'date_time' column\n",
    "date_string= birddata.loc[0,'date_time']\n",
    "type(date_string)\n",
    "date_string"
   ]
  },
  {
   "cell_type": "code",
   "execution_count": null,
   "metadata": {},
   "outputs": [],
   "source": [
    "# the field following second is UTC is an offset that is expressed in hours\n",
    "#and here is always 0, that 's why we can ignore it\n",
    "date_string[:-3]"
   ]
  },
  {
   "cell_type": "markdown",
   "metadata": {},
   "source": [
    "To compute how much time has passed between any two observations in our data set, we first have to **convert the timestamps, now given as strings, to datetime objects**."
   ]
  },
  {
   "cell_type": "markdown",
   "metadata": {},
   "source": [
    "Next we're going to use **strip time function** to turn a string to a datetime object.\n",
    "\n",
    "- the first argument is the string, which we would like to turn into a datetime object.\n",
    "- the second argument is also a string, but in this case the latter string **specifies the *formatting* to be applied to the first string.**\n"
   ]
  },
  {
   "cell_type": "code",
   "execution_count": null,
   "metadata": {},
   "outputs": [],
   "source": [
    "# convert the time observation (timestamps) date_string given as strings in datetime object\n",
    "\n",
    "datetime.datetime.strptime(date_string[:-3], \"%Y-%m-%d %H:%M:%S\")"
   ]
  },
  {
   "cell_type": "markdown",
   "metadata": {},
   "source": [
    "You can now use this function to go over each row in our data set, and create a new datetime object corresponding to every single row. You can follow the following steps:\n",
    "- set up an empty list, called e.g. timestamps\n",
    "- loop over every single row in birds data set\n",
    "> - for every single row, extract the date time, ignoring the last three characters.\n",
    "> - append the resulting object to the timestamps list.\n"
   ]
  },
  {
   "cell_type": "code",
   "execution_count": null,
   "metadata": {},
   "outputs": [],
   "source": [
    "timestamps =[]\n",
    "for k in range(len(birddata)):\n",
    "    # append to the timestamp list the converted time object (practically apply to each row the cell code provided in the previous code cell) \n",
    "    # you have only to meaningfully combine the code in the previous three cells, for the looping var k\n",
    "    \n",
    "    # extract date time \n",
    "    foo = birddata.loc[k,'date_time']\n",
    "    \n",
    "    # cut off the last three elements of date time\n",
    "    hoge = datetime.datetime.strptime(foo[:-3], \"%Y-%m-%d %H:%M:%S\")\n",
    "    \n",
    "    # add to timestamps list\n",
    "    timestamps.append(hoge)\n",
    "\n",
    "timestamps\n",
    "    "
   ]
  },
  {
   "cell_type": "code",
   "execution_count": null,
   "metadata": {},
   "outputs": [],
   "source": [
    "# checking the first 5 timestamps\n",
    "timestamps[:5]"
   ]
  },
  {
   "cell_type": "markdown",
   "metadata": {},
   "source": [
    "- construct a panda series object and insert the timestamp from my Python list into that object (left side)\n",
    "- append the panda series as a new column in my bird data data frame (right side)\n",
    "\n",
    "Hint: pd.Series(data, index = ), use the index from birddata dataframe"
   ]
  },
  {
   "cell_type": "code",
   "execution_count": null,
   "metadata": {
    "scrolled": true
   },
   "outputs": [],
   "source": [
    "# birddata['timestamp'] = pd.Series(timestamps)\n",
    "birddata['timestamp'] = pd.Series(timestamps )\n",
    "birddata"
   ]
  },
  {
   "cell_type": "markdown",
   "metadata": {},
   "source": [
    "\n"
   ]
  },
  {
   "cell_type": "code",
   "execution_count": null,
   "metadata": {},
   "outputs": [],
   "source": [
    "# check the new dataframe\n",
    "birddata.head(2)"
   ]
  },
  {
   "cell_type": "code",
   "execution_count": null,
   "metadata": {},
   "outputs": [],
   "source": [
    "# doing arithmetic with timestamps\n",
    "birddata.timestamp[4]-birddata.timestamp[3]"
   ]
  },
  {
   "cell_type": "markdown",
   "metadata": {},
   "source": [
    "Create a list that captures the amount of time that has elapsed since the beginning of data collection:\n",
    "- first, extract the timestamps for Eric, in an object called 'times'\n",
    "- create the elapsed time object as a list comprehension.\n",
    "\n"
   ]
  },
  {
   "cell_type": "code",
   "execution_count": null,
   "metadata": {},
   "outputs": [],
   "source": [
    "times = birddata.timestamp[birddata.bird_name== 'Eric']\n",
    "elapsed_time = [None] # the list will contain the results of the different timestamps - the initial timestamp\n",
    "for k in range(len(times)):\n",
    "    foo = times[k] - times[0]\n",
    "    elapsed_time.append(foo)\n",
    "\n",
    "elapsed_time"
   ]
  },
  {
   "cell_type": "code",
   "execution_count": null,
   "metadata": {},
   "outputs": [],
   "source": [
    "elapsed_time[0]"
   ]
  },
  {
   "cell_type": "code",
   "execution_count": null,
   "metadata": {},
   "outputs": [],
   "source": [
    "elapsed_time[1000]"
   ]
  },
  {
   "cell_type": "markdown",
   "metadata": {},
   "source": [
    "\n",
    "##### Compute the number of elapsed days \n",
    "- to measure time in certain units, like hours or days take a given time object and divide by a time delta object.\n",
    "> - create a time delta object that's equal to 1 day\n",
    "> - do the division\n"
   ]
  },
  {
   "cell_type": "code",
   "execution_count": null,
   "metadata": {},
   "outputs": [],
   "source": [
    "day_unit =datetime.timedelta(days= 1)\n",
    "type(day_unit)\n",
    "type(elapsed_time[1])"
   ]
  },
  {
   "cell_type": "code",
   "execution_count": null,
   "metadata": {},
   "outputs": [],
   "source": [
    "days = elapsed_time[1000]/day_unit"
   ]
  },
  {
   "cell_type": "code",
   "execution_count": null,
   "metadata": {},
   "outputs": [],
   "source": [
    "type(days)"
   ]
  },
  {
   "cell_type": "code",
   "execution_count": null,
   "metadata": {},
   "outputs": [],
   "source": [
    "# compute the number of elapsed days for the whole dataset; convert elapsed time to a np.array() to be able to make the division\n",
    "\n",
    "all_bird_times = birddata['timestamp']\n",
    "elapsed_time = [None] # the list will contain the results of the different timestamps - the initial timestamp\n",
    "elapsed_days = [None]\n",
    "for k in range(len(all_bird_times)):\n",
    "    foo = all_bird_times[k] - all_bird_times[0]\n",
    "    elapsed_time.append(foo) # list with time\n",
    "    print(elapsed_time[k])\n",
    "#     hoge = elapsed_time[k] /day_unit\n",
    "#     elapsed_a = np.array(elapsed_time) # convert list into array\n",
    "#     days = foo2[k]/day_unit\n",
    "#     days = elapsed_time[k] / day_unit\n",
    "\n",
    "\n",
    "# elapsed_days\n",
    "# elapsed_time"
   ]
  },
  {
   "cell_type": "markdown",
   "metadata": {},
   "source": [
    "##### Ploting the number of observation versus elapsed days\n",
    "\n",
    "- to plot th enumber of day elapsed, we have to convert elapsed to a np.array()"
   ]
  },
  {
   "cell_type": "code",
   "execution_count": null,
   "metadata": {},
   "outputs": [],
   "source": [
    "plt.plot(np.array(elapsed_time)/datetime.timedelta(days= 1))\n",
    "plt.xlabel(\"Observations\")\n",
    "plt.ylabel('Elapsed_Time')\n"
   ]
  },
  {
   "cell_type": "markdown",
   "metadata": {},
   "source": [
    "What can be the meaning of the inflections of the line in the neighborhood of the 6000th observation? "
   ]
  },
  {
   "cell_type": "markdown",
   "metadata": {},
   "source": [
    "\n",
    "##### Calculating and plot daily mean speed\n",
    "\n"
   ]
  },
  {
   "cell_type": "code",
   "execution_count": null,
   "metadata": {},
   "outputs": [],
   "source": [
    "next_day= 1\n",
    "daily_mean_speed = []\n",
    "inds = []\n",
    "for (i, t) in enumerate(elapsed_days):\n",
    "    if t < next_day:\n",
    "        inds.append(i)\n",
    "    else:\n",
    "        #compute the dayly mean speed\n",
    "        daily_mean_speed.append(np.mean(birddata.speed_2d[inds]))\n",
    "        next_day +=1\n",
    "        #reset inds\n",
    "        inds = []\n"
   ]
  },
  {
   "cell_type": "code",
   "execution_count": null,
   "metadata": {},
   "outputs": [],
   "source": [
    "daily_mean_speed"
   ]
  },
  {
   "cell_type": "code",
   "execution_count": null,
   "metadata": {},
   "outputs": [],
   "source": [
    "plt.figure(figsize=(8,6))\n",
    "plt.plot(daily_mean_speed)\n",
    "plt.xlabel('Day')\n",
    "plt.ylabel('Daily mean speed m/s')\n",
    "plt.show()"
   ]
  },
  {
   "cell_type": "markdown",
   "metadata": {},
   "source": [
    "What could indicate the two spikes visible on the plot?"
   ]
  },
  {
   "cell_type": "markdown",
   "metadata": {
    "collapsed": true
   },
   "source": [
    "### Looking for patterns of flight "
   ]
  },
  {
   "cell_type": "markdown",
   "metadata": {},
   "source": [
    "pandas makes it easy to perform basic operations on groups within a dataframe without needing to loop through each value in the dataframe.\n",
    "\n",
    "#### Task 08: \n",
    "1. Group the dataframe by birdname and then find the average speed_2d for each bird.\n",
    "\n",
    "> - First, use `groupby()` to group the data by \"bird_name\".\n",
    "\n",
    "\n",
    "> - Calculate the mean of `speed_2d` using the `mean()` function on subbsetting the groupby object on the column 'speed_2d' \n",
    "\n",
    "\n",
    "2. Find the mean `altitude` for each bird in a similar way\n"
   ]
  },
  {
   "cell_type": "code",
   "execution_count": null,
   "metadata": {},
   "outputs": [],
   "source": [
    "hoge = birddata.groupby('bird_name')\n",
    "# birddata\n"
   ]
  },
  {
   "cell_type": "code",
   "execution_count": null,
   "metadata": {},
   "outputs": [],
   "source": []
  },
  {
   "cell_type": "code",
   "execution_count": null,
   "metadata": {},
   "outputs": [],
   "source": []
  }
 ],
 "metadata": {
  "kernelspec": {
   "display_name": "Python 3",
   "language": "python",
   "name": "python3"
  },
  "language_info": {
   "codemirror_mode": {
    "name": "ipython",
    "version": 3
   },
   "file_extension": ".py",
   "mimetype": "text/x-python",
   "name": "python",
   "nbconvert_exporter": "python",
   "pygments_lexer": "ipython3",
   "version": "3.7.3"
  }
 },
 "nbformat": 4,
 "nbformat_minor": 2
}
